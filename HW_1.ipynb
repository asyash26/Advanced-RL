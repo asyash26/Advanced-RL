{
 "cells": [
  {
   "cell_type": "markdown",
   "id": "ab867201",
   "metadata": {},
   "source": [
    "## RL and Advanced DL: Домашнее задание 1"
   ]
  },
  {
   "cell_type": "markdown",
   "id": "4abdff05",
   "metadata": {},
   "source": [
    "Первое ДЗ связано с обучением с подкреплением, и оно придумано для ситуации, когда нейронные сети ещё не нужны, и пространство состояний в целом достаточно маленькое, чтобы можно было обучить хорошую стратегию методами TD-обучения или другими методами обучения с подкреплением. Задание получилось, надеюсь, интересное, но в том числе и достаточно техническое, так что для решения придётся немножко попрограммировать. Поэтому в качестве решения ожидается ссылка на jupyter-ноутбук на вашем github (или публичный, или с доступом для snikolenko); ссылку обязательно нужно прислать в виде сданного домашнего задания на портале Академии. Любые комментарии, новые идеи и рассуждения на тему, как всегда, категорически приветствуются.\n",
    "\n",
    "#### Часть первая, с блекджеком и стратегиями\n",
    "Мы будем обучаться играть в очень простую, но знаменитую и популярную игру: блекджек. \n",
    "Правила блекджека достаточно просты; давайте начнём с самой базовой версии, которая реализована в OpenAI Gym:\n",
    "1. численные значения карт равны от 2 до 10 для карт от двойки до десятки, 10 для валетов, дам и королей;\n",
    "2. туз считается за 11 очков, если общая сумма карт на руке при этом не превосходит 21 (по-английски в этом случае говорят, что на руке есть usable ace), и за 1 очко, если превосходит;\n",
    "3. игроку раздаются две карты, дилеру — одна в открытую и одна в закрытую;\n",
    "4. игрок может совершать одно из двух действий:\n",
    " - hit  — взять ещё одну карту;\n",
    " - stand — не брать больше карт;\n",
    "5. если сумма очков у игрока на руках больше 21, он проигрывает (bust);\n",
    "6. если игрок выбирает stand с суммой не больше 21, дилер добирает карты, пока сумма карт в его руке меньше 17;\n",
    "7. после этого игрок выигрывает, если дилер либо превышает 21, либо получает сумму очков меньше, чем сумма очков у игрока; при равенстве очков объявляется ничья (ставка возвращается);\n",
    "8. в исходных правилах есть ещё дополнительный бонус за natural blackjack: если игрок набирает 21 очко с раздачи, двумя картами, он выигрывает не +1, а +1.5 (полторы ставки).\n"
   ]
  },
  {
   "cell_type": "markdown",
   "id": "dcefc4c4",
   "metadata": {},
   "source": [
    "Именно этот простейший вариант блекджека реализован в OpenAI Gym:  \n",
    "https://github.com/openai/gym/blob/master/gym/envs/toy_text/blackjack.py  \n",
    "<b>1.</b> Рассмотрим очень простую стратегию: говорить stand, если у нас на руках комбинация в 19, 20 или 21 очко, во всех остальных случаях говорить hit. Используйте методы Монте-Карло, чтобы оценить выигрыш от этой стратегии.  \n",
    "<b>2.</b> Реализуйте метод обучения с подкреплением без модели (можно Q-обучение, но рекомендую попробовать и другие, например Monte Carlo control) для обучения стратегии в блекджеке, используя окружение Blackjack-v0 из OpenAI Gym.   \n",
    "<b>3.</b> Сколько выигрывает казино у вашей стратегии? Нарисуйте графики среднего дохода вашего метода (усреднённого по крайней мере по 100000 раздач, а лучше больше) по ходу обучения. Попробуйте подобрать оптимальные гиперпараметры.  "
   ]
  },
  {
   "cell_type": "code",
   "execution_count": 1,
   "id": "ad704a56",
   "metadata": {},
   "outputs": [],
   "source": [
    "import gym\n",
    "import numpy as np\n",
    "import matplotlib.pyplot as plt\n",
    "import itertools\n",
    "import random\n",
    "from tqdm import tqdm"
   ]
  },
  {
   "cell_type": "code",
   "execution_count": 2,
   "id": "d4120b15",
   "metadata": {},
   "outputs": [],
   "source": [
    "env = gym.make('Blackjack-v1')\n",
    "env.natural = True"
   ]
  },
  {
   "cell_type": "code",
   "execution_count": 3,
   "id": "50679a38",
   "metadata": {},
   "outputs": [],
   "source": [
    "available_actions = [True, False]\n",
    "available_sums = list(range(4, 32))\n",
    "available_cards = list(range(1, 11))"
   ]
  },
  {
   "cell_type": "markdown",
   "id": "d5a93861",
   "metadata": {},
   "source": [
    "Считала средний выигрыш для конечной лучшей стратегии (не знаю, насколько это верно, т.к. читала в чате, что есть и другие варианты подсчета)"
   ]
  },
  {
   "cell_type": "code",
   "execution_count": 4,
   "id": "a1612c50",
   "metadata": {},
   "outputs": [],
   "source": [
    "def calc_mean_reward(environment, pi, n):\n",
    "    rewards = []\n",
    "    for _ in range(n):\n",
    "        state = env.reset()\n",
    "        end = False\n",
    "        current_reward = 0\n",
    "        while not end:\n",
    "            action = pi[state]\n",
    "            state, reward, end, info = env.step(action)\n",
    "            current_reward += reward\n",
    "        rewards.append(current_reward)\n",
    "    return np.mean(rewards)"
   ]
  },
  {
   "cell_type": "code",
   "execution_count": 30,
   "id": "808908c6",
   "metadata": {},
   "outputs": [],
   "source": [
    "S = list(itertools.product(available_sums, available_cards, available_actions))\n",
    "# 19, 20 или 21 stand pi\n",
    "easy_pi = dict(zip(S, [1 if (state[0] < 19 or state[0] > 21) else 0 for state in S]))\n",
    "easy_pi_mean_reward = calc_mean_reward(env, easy_pi, 100_000)"
   ]
  },
  {
   "cell_type": "code",
   "execution_count": 31,
   "id": "87a019ef",
   "metadata": {},
   "outputs": [
    {
     "name": "stdout",
     "output_type": "stream",
     "text": [
      "'19, 20, 21 -> Stand' strategy mean reward:  -0.19362\n"
     ]
    }
   ],
   "source": [
    "print(\"'19, 20, 21 -> Stand' strategy mean reward: \", easy_pi_mean_reward)"
   ]
  },
  {
   "cell_type": "code",
   "execution_count": 7,
   "id": "67c75fbb",
   "metadata": {},
   "outputs": [],
   "source": [
    "def get_action(Q, state, A, eps):\n",
    "    if random.random() < (1 - eps):\n",
    "        pi = dict(zip(S, np.argmax(list(Q.values()), axis=1)))\n",
    "        action = pi[state]\n",
    "    else:\n",
    "        action = random.choice(A)\n",
    "    return action\n",
    "    \n",
    "def Q_learning(env, A, Q, num_episodes, alpha, epsilon, gamma):\n",
    "    for _ in tqdm(range(num_episodes)):\n",
    "        state = env.reset()\n",
    "        end = False\n",
    "        while not end:\n",
    "            action = get_action(Q, state, A, epsilon)\n",
    "            new_state, reward, end, info = env.step(action)\n",
    "            Q[state][action] = Q[state][action] + alpha * (reward + gamma * max(Q[new_state]) - Q[state][action])\n",
    "            state = new_state  \n",
    "    return Q"
   ]
  },
  {
   "cell_type": "code",
   "execution_count": 32,
   "id": "eaf328b7",
   "metadata": {},
   "outputs": [],
   "source": [
    "env = gym.make('Blackjack-v1')\n",
    "env.natural = True\n",
    "\n",
    "A = (0, 1)\n",
    "# инициализируем Q\n",
    "Q = dict(zip(S, np.zeros((len(S), len(A)))))"
   ]
  },
  {
   "cell_type": "code",
   "execution_count": 42,
   "id": "3d666617",
   "metadata": {},
   "outputs": [],
   "source": [
    "# гиперпараметры (подобраны эмпирически)\n",
    "num_episodes = 100_000\n",
    "alpha = 0.001\n",
    "epsilon = 0.8\n",
    "gamma = 0.9"
   ]
  },
  {
   "cell_type": "code",
   "execution_count": 43,
   "id": "1c982f36",
   "metadata": {},
   "outputs": [
    {
     "name": "stderr",
     "output_type": "stream",
     "text": [
      "100%|████████████████████████████████████████████████████████████████████████| 100000/100000 [00:48<00:00, 2063.75it/s]\n"
     ]
    }
   ],
   "source": [
    "Q = Q_learning(env, A, Q, num_episodes=num_episodes, alpha=alpha, epsilon=epsilon, gamma=gamma)\n",
    "pi = dict(zip(S, np.argmax(list(Q.values()), axis=1)))\n",
    "reward_mean = calc_mean_reward(env, pi, n=100_000)"
   ]
  },
  {
   "cell_type": "code",
   "execution_count": 44,
   "id": "4a593208",
   "metadata": {},
   "outputs": [
    {
     "name": "stdout",
     "output_type": "stream",
     "text": [
      "'Q learning with default BlackjackEnv' mean reward:  -0.10481\n"
     ]
    }
   ],
   "source": [
    "print(\"'Q learning with default BlackjackEnv' mean reward: \", reward_mean)"
   ]
  },
  {
   "cell_type": "code",
   "execution_count": 45,
   "id": "f63e225b",
   "metadata": {},
   "outputs": [],
   "source": [
    "def get_mean_reward_while_learning(env, A, Q, num_episodes, num_playes, step, alpha, epsilon, gamma):\n",
    "    rewards = []\n",
    "    for i in tqdm(range(num_episodes)):\n",
    "        state = env.reset()\n",
    "        end = False\n",
    "        while not end:\n",
    "            action = get_action(Q, state, A, epsilon)\n",
    "            new_state, reward, end, info = env.step(action)\n",
    "            Q[state][action] = Q[state][action] + alpha * (reward + gamma * max(Q[new_state]) - Q[state][action])\n",
    "            state = new_state \n",
    "        if i % step == 0:\n",
    "            pi = dict(zip(S, np.argmax(list(Q.values()), axis=1)))\n",
    "            mean_reward = calc_mean_reward(env, pi, num_playes)\n",
    "            rewards.append(mean_reward)    \n",
    "    return rewards"
   ]
  },
  {
   "cell_type": "code",
   "execution_count": 46,
   "id": "bc7fcdc9",
   "metadata": {},
   "outputs": [],
   "source": [
    "def plot_mean_rewards(mean_rewards, num_episodes, step):\n",
    "    plt.figure(figsize=(10, 7))\n",
    "    indicies = np.arange(0, num_episodes, step)\n",
    "    plt.plot(indicies, mean_rewards, linewidth=1.5)\n",
    "    plt.xlabel(\"Number of episodes played\")\n",
    "    plt.ylabel(\"Average reward\")\n",
    "    plt.title(\"Average reward during training\")\n",
    "    plt.xlim(left=0)\n",
    "    plt.xlim(right=num_episodes)\n",
    "    plt.minorticks_on()\n",
    "    plt.grid(True)"
   ]
  },
  {
   "cell_type": "code",
   "execution_count": 47,
   "id": "199b78c5",
   "metadata": {},
   "outputs": [
    {
     "name": "stderr",
     "output_type": "stream",
     "text": [
      "100%|█████████████████████████████████████████████████████████████████████████| 100000/100000 [05:03<00:00, 329.71it/s]\n"
     ]
    }
   ],
   "source": [
    "step = 500\n",
    "num_playes = 10_000\n",
    "Q = dict(zip(S, np.zeros((len(S), len(A)))))\n",
    "mean_rewards = get_mean_reward_while_learning(env, A, Q, num_episodes=num_episodes, num_playes=num_playes,\n",
    "                                   step=step, alpha=alpha, epsilon=epsilon, gamma=gamma)"
   ]
  },
  {
   "cell_type": "code",
   "execution_count": 48,
   "id": "391c7e09",
   "metadata": {},
   "outputs": [
    {
     "data": {
      "image/png": "[encoded data removed]",
      "text/plain": [
       "<Figure size 720x504 with 1 Axes>"
      ]
     },
     "metadata": {
      "needs_background": "light"
     },
     "output_type": "display_data"
    }
   ],
   "source": [
    "plot_mean_rewards(mean_rewards, num_episodes, step)"
   ]
  },
  {
   "cell_type": "markdown",
   "id": "b62e6075",
   "metadata": {},
   "source": [
    "#### Часть вторая, удвоенная\n",
    "В базовый блекджек, описанный в предыдущем разделе, обыграть казино вряд ли получится. Но, к счастью, на этом история не заканчивается. Описанные выше правила были упрощёнными, а на самом деле у игрока есть ещё и другие возможности. Реализовывать split может оказаться непросто, поэтому давайте ограничимся удвоением ставки. Итак, у игрока появляется дополнительное действие:\n",
    "double — удвоить ставку; при этом больше действий делать нельзя, игроку выдаётся ровно одна дополнительная карта, а выигрыш или проигрыш удваивается.  \n",
    "<b>4.</b> Реализуйте новый вариант блекджека на основе окружения Blackjack-v0 из OpenAI Gym, в котором разрешено удвоение ставки.  \n",
    "<b>5.</b> Реализуйте метод обучения с подкреплением без модели для этого варианта, постройте графики, аналогичные п.2."
   ]
  },
  {
   "cell_type": "code",
   "execution_count": 49,
   "id": "48f511e2",
   "metadata": {},
   "outputs": [],
   "source": [
    "from gym import spaces\n",
    "from gym.utils import seeding\n",
    "\n",
    "\n",
    "def cmp(a, b):\n",
    "    return float(a > b) - float(a < b)\n",
    "\n",
    "\n",
    "# 1 = Ace, 2-10 = Number cards, Jack/Queen/King = 10\n",
    "deck = [1, 2, 3, 4, 5, 6, 7, 8, 9, 10, 10, 10, 10]\n",
    "\n",
    "\n",
    "def draw_card(np_random):\n",
    "    return int(np_random.choice(deck))\n",
    "\n",
    "\n",
    "def draw_hand(np_random):\n",
    "    return [draw_card(np_random), draw_card(np_random)]\n",
    "\n",
    "\n",
    "def usable_ace(hand):  # Does this hand have a usable ace?\n",
    "    return 1 in hand and sum(hand) + 10 <= 21\n",
    "\n",
    "\n",
    "def sum_hand(hand):  # Return current hand total\n",
    "    if usable_ace(hand):\n",
    "        return sum(hand) + 10\n",
    "    return sum(hand)\n",
    "\n",
    "\n",
    "def is_bust(hand):  # Is this hand a bust?\n",
    "    return sum_hand(hand) > 21\n",
    "\n",
    "\n",
    "def score(hand):  # What is the score of this hand (0 if bust)\n",
    "    return 0 if is_bust(hand) else sum_hand(hand)\n",
    "\n",
    "\n",
    "def is_natural(hand):  # Is this hand a natural blackjack?\n",
    "    return sorted(hand) == [1, 10]\n",
    "\n",
    "\n",
    "class BlackjackDoubleEnv(gym.Env):\n",
    "    \"\"\"Simple blackjack environment\n",
    "    Blackjack is a card game where the goal is to obtain cards that sum to as\n",
    "    near as possible to 21 without going over.  They're playing against a fixed\n",
    "    dealer.\n",
    "    Face cards (Jack, Queen, King) have point value 10.\n",
    "    Aces can either count as 11 or 1, and it's called 'usable' at 11.\n",
    "    This game is placed with an infinite deck (or with replacement).\n",
    "    The game starts with dealer having one face up and one face down card, while\n",
    "    player having two face up cards. (Virtually for all Blackjack games today).\n",
    "    The player can request additional cards (hit=1) until they decide to stop\n",
    "    (stick=0) or exceed 21 (bust).\n",
    "    After the player sticks, the dealer reveals their facedown card, and draws\n",
    "    until their sum is 17 or greater.  If the dealer goes bust the player wins.\n",
    "    If neither player nor dealer busts, the outcome (win, lose, draw) is\n",
    "    decided by whose sum is closer to 21.  The reward for winning is +1,\n",
    "    drawing is 0, and losing is -1.\n",
    "    The observation of a 3-tuple of: the players current sum,\n",
    "    the dealer's one showing card (1-10 where 1 is ace),\n",
    "    and whether or not the player holds a usable ace (0 or 1).\n",
    "    This environment corresponds to the version of the blackjack problem\n",
    "    described in Example 5.1 in Reinforcement Learning: An Introduction\n",
    "    by Sutton and Barto.\n",
    "    http://incompleteideas.net/book/the-book-2nd.html\n",
    "    \"\"\"\n",
    "\n",
    "    def __init__(self, natural=False, sab=False):\n",
    "        self.action_space = spaces.Discrete(3)\n",
    "        self.observation_space = spaces.Tuple(\n",
    "            (spaces.Discrete(32), spaces.Discrete(11), spaces.Discrete(2))\n",
    "        )\n",
    "        self.seed()\n",
    "\n",
    "        # Flag to payout 1.5 on a \"natural\" blackjack win, like casino rules\n",
    "        # Ref: http://www.bicyclecards.com/how-to-play/blackjack/\n",
    "        self.natural = natural\n",
    "\n",
    "        # Flag for full agreement with the (Sutton and Barto, 2018) definition. Overrides self.natural\n",
    "        self.sab = sab\n",
    "\n",
    "    def seed(self, seed=None):\n",
    "        self.np_random, seed = seeding.np_random(seed)\n",
    "        return [seed]\n",
    "\n",
    "    def step(self, action):\n",
    "        assert self.action_space.contains(action)\n",
    "        if action == 0:  # hit: add a card to players hand and return\n",
    "            self.player.append(draw_card(self.np_random))\n",
    "            if is_bust(self.player):\n",
    "                done = True\n",
    "                reward = -1.0\n",
    "            else:\n",
    "                done = False\n",
    "                reward = 0.0\n",
    "        elif action == 1:  # stick: play out the dealers hand, and score\n",
    "            done = True\n",
    "            while sum_hand(self.dealer) < 17:\n",
    "                self.dealer.append(draw_card(self.np_random))\n",
    "            reward = cmp(score(self.player), score(self.dealer))\n",
    "            if self.sab and is_natural(self.player) and not is_natural(self.dealer):\n",
    "                # Player automatically wins. Rules consistent with S&B\n",
    "                reward = 1.0\n",
    "            elif (\n",
    "                not self.sab\n",
    "                and self.natural\n",
    "                and is_natural(self.player)\n",
    "                and reward == 1.0\n",
    "            ):\n",
    "                # Natural gives extra points, but doesn't autowin. Legacy implementation\n",
    "                reward = 1.5\n",
    "        else: # double: add a card to players hand, end the game, double reward\n",
    "            self.player.append(draw_card(self.np_random))\n",
    "            done = True\n",
    "            while sum_hand(self.dealer) < 17:\n",
    "                self.dealer.append(draw_card(self.np_random))\n",
    "            reward = cmp(score(self.player), score(self.dealer)) * 2\n",
    "             \n",
    "        return self._get_obs(), reward, done, {}\n",
    "\n",
    "    def _get_obs(self):\n",
    "        return (sum_hand(self.player), self.dealer[0], usable_ace(self.player))\n",
    "\n",
    "    def reset(self):\n",
    "        self.dealer = draw_hand(self.np_random)\n",
    "        self.player = draw_hand(self.np_random)\n",
    "        return self._get_obs()"
   ]
  },
  {
   "cell_type": "code",
   "execution_count": 17,
   "id": "d1e7c2de",
   "metadata": {},
   "outputs": [],
   "source": [
    "env = BlackjackDoubleEnv()\n",
    "env.natural = True\n",
    "\n",
    "# (hit, stand, double)\n",
    "A = (0, 1, 2)\n",
    "Q = dict(zip(S, np.zeros((len(S), len(A)))))\n",
    "S = list(itertools.product(range(4, 32), range(1, 11), (True, False)))"
   ]
  },
  {
   "cell_type": "code",
   "execution_count": 18,
   "id": "f56e3dc6",
   "metadata": {},
   "outputs": [],
   "source": [
    "# гиперпараметры (подобраны эмпирически)\n",
    "num_episodes = 50_000\n",
    "alpha = 0.005\n",
    "epsilon = 0.8\n",
    "gamma = 1"
   ]
  },
  {
   "cell_type": "code",
   "execution_count": 19,
   "id": "04330fe9",
   "metadata": {},
   "outputs": [
    {
     "name": "stderr",
     "output_type": "stream",
     "text": [
      "100%|██████████████████████████████████████████████████████████████████████████| 50000/50000 [00:09<00:00, 5373.72it/s]\n"
     ]
    }
   ],
   "source": [
    "Q = Q_learning(env, A, Q, num_episodes=num_episodes, alpha=alpha, epsilon=epsilon, gamma=gamma)\n",
    "pi = dict(zip(S, np.argmax(list(Q.values()), axis=1)))\n",
    "reward_mean = calc_mean_reward(env, pi, n=100_000)"
   ]
  },
  {
   "cell_type": "code",
   "execution_count": 20,
   "id": "54096bbf",
   "metadata": {},
   "outputs": [
    {
     "name": "stdout",
     "output_type": "stream",
     "text": [
      "'Q learning with 'double' action mean reward:  -0.05678\n"
     ]
    }
   ],
   "source": [
    "print(\"'Q learning with 'double' action mean reward: \", reward_mean)"
   ]
  },
  {
   "cell_type": "code",
   "execution_count": 21,
   "id": "403b68c1",
   "metadata": {},
   "outputs": [
    {
     "name": "stderr",
     "output_type": "stream",
     "text": [
      "100%|███████████████████████████████████████████████████████████████████████████| 50000/50000 [01:06<00:00, 755.42it/s]\n"
     ]
    }
   ],
   "source": [
    "step = 500\n",
    "Q = dict(zip(S, np.zeros((len(S), len(A)))))\n",
    "mean_rewards = get_mean_reward_while_learning(env, A, Q, num_episodes=num_episodes, num_playes=num_playes,\n",
    "                                   step=step, alpha=alpha, epsilon=epsilon, gamma=gamma)"
   ]
  },
  {
   "cell_type": "code",
   "execution_count": 22,
   "id": "dbef3ef7",
   "metadata": {},
   "outputs": [
    {
     "data": {
      "image/png": "[encoded data removed]",
      "text/plain": [
       "<Figure size 720x504 with 1 Axes>"
      ]
     },
     "metadata": {
      "needs_background": "light"
     },
     "output_type": "display_data"
    }
   ],
   "source": [
    "plot_mean_rewards(mean_rewards, num_episodes, step)"
   ]
  },
  {
   "cell_type": "markdown",
   "id": "1fbed919",
   "metadata": {},
   "source": [
    "### Часть третья, в главной роли — Дастин Хоффман\n",
    "А теперь давайте вспомним, как играют в блекджек настоящие профессионалы. Дело в том, что в оффлайн-казино обычно не перемешивают колоду после каждой раздачи — это слишком замедляло бы игру. После раздачи карты просто раздаются дальше с верха колоды до тех пор, пока карт не останется слишком мало, и только тогда колода перемешивается; давайте для определённости считать, что наше казино будет перемешивать колоду, в которой осталось меньше 15 карт.  \n",
    "\n",
    "Действительно, если вы будете запоминать, какие карты уже вышли, у вас будет информация о том, какие карты ещё остались, а это позволяет лучше понять, когда нужно удваивать ставку или делать split, а когда лучше не стоит. В настоящем казино могут раздавать карты сразу из нескольких колод, и заслуга Rain Man’а была в том, что он смог считать карты в шести колодах одновременно. Но мы с вами вооружены компьютерами, так что подсчёт можно считать автоматическим.  \n",
    "\n",
    "<b> 6. </b> Реализуйте вариант окружения Blackjack-v0 из предыдущей части (с удвоением), в котором игрок имеет возможность “считать карты” в колоде. Это можно сделать разными способами; возможно, вам поможет статья википедии о блекджеке (а возможно, и нет).  \n",
    "<b> 7. </b>Реализуйте метод обучения с подкреплением без модели для этого варианта, постройте графики, аналогичные п.2.\n"
   ]
  },
  {
   "cell_type": "code",
   "execution_count": 23,
   "id": "2dd67998",
   "metadata": {},
   "outputs": [],
   "source": [
    "\"\"\"Для подсчета карт использовала систему 'Половинки', описаннную в статье на Википедии,\n",
    "    т.к. она лишена недостатвков системы подсчёта 'Плюс-минус'\"\"\"\n",
    "\n",
    "class BlackjackDoubleCardsCountEnv(gym.Env):\n",
    "    \"\"\"Simple blackjack environment\n",
    "    Blackjack is a card game where the goal is to obtain cards that sum to as\n",
    "    near as possible to 21 without going over.  They're playing against a fixed\n",
    "    dealer.\n",
    "    Face cards (Jack, Queen, King) have point value 10.\n",
    "    Aces can either count as 11 or 1, and it's called 'usable' at 11.\n",
    "    This game is placed with an infinite deck (or with replacement).\n",
    "    The game starts with dealer having one face up and one face down card, while\n",
    "    player having two face up cards. (Virtually for all Blackjack games today).\n",
    "    The player can request additional cards (hit=1) until they decide to stop\n",
    "    (stick=0) or exceed 21 (bust).\n",
    "    After the player sticks, the dealer reveals their facedown card, and draws\n",
    "    until their sum is 17 or greater.  If the dealer goes bust the player wins.\n",
    "    If neither player nor dealer busts, the outcome (win, lose, draw) is\n",
    "    decided by whose sum is closer to 21.  The reward for winning is +1,\n",
    "    drawing is 0, and losing is -1.\n",
    "    The observation of a 3-tuple of: the players current sum,\n",
    "    the dealer's one showing card (1-10 where 1 is ace),\n",
    "    and whether or not the player holds a usable ace (0 or 1).\n",
    "    This environment corresponds to the version of the blackjack problem\n",
    "    described in Example 5.1 in Reinforcement Learning: An Introduction\n",
    "    by Sutton and Barto.\n",
    "    http://incompleteideas.net/book/the-book-2nd.html\n",
    "    \"\"\"\n",
    "\n",
    "    def __init__(self, natural=False, sab=False):\n",
    "        self.action_space = spaces.Discrete(3)\n",
    "        self.observation_space = spaces.Tuple(         # пересчитать пространство для подсчета               \n",
    "            (spaces.Discrete(32), spaces.Discrete(11), spaces.Discrete(2), spaces.Discrete(100))\n",
    "        )\n",
    "        self.seed()\n",
    "        # стандартная колода\n",
    "        self.standart_deck = [1, 2, 3, 4, 5, 6, 7, 8, 9, 10, 10, 10, 10]\n",
    "        # шуз на 4 колоды\n",
    "        self.deck = self.standart_deck * 4\n",
    "        # 'счет' карт\n",
    "        self.cards_count = 0\n",
    "        # числовые значения для карт\n",
    "        self.mathing = {\n",
    "            1: -1,\n",
    "            2: 0.5,\n",
    "            3: 0.5,\n",
    "            4: 1,\n",
    "            5: 1.5,\n",
    "            6: 1,\n",
    "            7: 0.5,\n",
    "            8: 0,\n",
    "            9: -0.5,\n",
    "            10: -1,\n",
    "        }\n",
    "\n",
    "        # Flag to payout 1.5 on a \"natural\" blackjack win, like casino rules\n",
    "        # Ref: http://www.bicyclecards.com/how-to-play/blackjack/\n",
    "        self.natural = natural\n",
    "\n",
    "        # Flag for full agreement with the (Sutton and Barto, 2018) definition. Overrides self.natural\n",
    "        self.sab = sab\n",
    "    \n",
    "    def draw_card(self, np_random):\n",
    "        card = int(np_random.choice(self.deck))\n",
    "        # убрать карту из колоды при раздаче\n",
    "        self.deck.remove(card)\n",
    "#         print(self.deck)\n",
    "        return card\n",
    "\n",
    "    def draw_hand(self, np_random):\n",
    "        return [self.draw_card(np_random), self.draw_card(np_random)]\n",
    "    \n",
    "    def count(self, card):\n",
    "        self.cards_count += self.mathing[card] \n",
    "\n",
    "    def seed(self, seed=None):\n",
    "        self.np_random, seed = seeding.np_random(seed)\n",
    "        return [seed]\n",
    "\n",
    "    def step(self, action):\n",
    "        assert self.action_space.contains(action)\n",
    "        if action == 0:  # hit: add a card to players hand and return\n",
    "            # подсчитываем полученную из колоды карту\n",
    "            card = self.draw_card(self.np_random)\n",
    "            self.count(card)\n",
    "            self.player.append(card)\n",
    "            if is_bust(self.player):\n",
    "                done = True\n",
    "                reward = -1.0\n",
    "            else:\n",
    "                done = False\n",
    "                reward = 0.0\n",
    "        elif action == 1:  # stick: play out the dealers hand, and score\n",
    "            done = True\n",
    "            while sum_hand(self.dealer) < 17:\n",
    "                self.dealer.append(self.draw_card(self.np_random))\n",
    "            reward = cmp(score(self.player), score(self.dealer))\n",
    "            if self.sab and is_natural(self.player) and not is_natural(self.dealer):\n",
    "                # Player automatically wins. Rules consistent with S&B\n",
    "                reward = 1.0\n",
    "            elif (\n",
    "                not self.sab\n",
    "                and self.natural\n",
    "                and is_natural(self.player)\n",
    "                and reward == 1.0\n",
    "            ):\n",
    "                # Natural gives extra points, but doesn't autowin. Legacy implementation\n",
    "                reward = 1.5\n",
    "            # подсчитываем все карты диллера, кроме открытой\n",
    "            for card in self.dealer[1:]:\n",
    "                self.count(card)      \n",
    "        else: # double: add a card to players hand, end the game, double reward\n",
    "            # подсчитываем полученную из колоды карту\n",
    "            card = self.draw_card(self.np_random)\n",
    "            self.count(card)\n",
    "            self.player.append(card)\n",
    "            done = True\n",
    "            while sum_hand(self.dealer) < 17:\n",
    "                self.dealer.append(self.draw_card(self.np_random))\n",
    "            # подсчитываем все карты диллера, кроме открытой\n",
    "            for card in self.dealer[1:]:\n",
    "                self.count(card)   \n",
    "            reward = cmp(score(self.player), score(self.dealer)) * 2\n",
    "             \n",
    "        return self._get_obs(), reward, done, {}\n",
    "\n",
    "    def _get_obs(self):\n",
    "        return (sum_hand(self.player), self.dealer[0], usable_ace(self.player), self.cards_count)\n",
    "\n",
    "    def reset(self):\n",
    "        if len(self.deck) < 15:\n",
    "            self.deck = self.standart_deck * 4\n",
    "            self.cards_count = 0\n",
    "        cards = self.draw_hand(self.np_random)\n",
    "        self.dealer = cards\n",
    "        for card in cards:\n",
    "            self.count(card)  \n",
    "        cards = self.draw_hand(self.np_random)\n",
    "        self.player = cards\n",
    "        for card in cards:\n",
    "            self.count(card)  \n",
    "#         print(self.deck)\n",
    "        return self._get_obs()"
   ]
  },
  {
   "cell_type": "code",
   "execution_count": 52,
   "id": "71ba4160",
   "metadata": {},
   "outputs": [],
   "source": [
    "env = BlackjackDoubleCardsCountEnv()\n",
    "env.natural = True\n",
    "\n",
    "A = (0, 1, 2)\n",
    "max_count = 4 * (1 * 1.5 + 3 * 0.5 + 2 * 1)\n",
    "min_count = 4 * (4 * (-1) - 0.5 - 1)\n",
    "S = list(itertools.product(range(4, 32), range(1, 11), (True, False), np.arange(min_count, max_count, 0.5)))\n",
    "Q = dict(zip(S, np.zeros((len(S), len(A)))))"
   ]
  },
  {
   "cell_type": "code",
   "execution_count": 53,
   "id": "ff39b8ab",
   "metadata": {},
   "outputs": [],
   "source": [
    "# hyperparameters\n",
    "num_episodes = 100_000\n",
    "alpha = 0.0001\n",
    "epsilon = 0.9\n",
    "gamma = 0.9"
   ]
  },
  {
   "cell_type": "code",
   "execution_count": 54,
   "id": "9a42be52",
   "metadata": {},
   "outputs": [
    {
     "name": "stderr",
     "output_type": "stream",
     "text": [
      "100%|██████████████████████████████████████████████████████████████████████████| 100000/100000 [20:29<00:00, 81.30it/s]\n"
     ]
    }
   ],
   "source": [
    "Q = Q_learning(env, A, Q, num_episodes=num_episodes, alpha=alpha, epsilon=epsilon, gamma=gamma)\n",
    "pi = dict(zip(S, np.argmax(list(Q.values()), axis=1)))\n",
    "reward_mean = calc_mean_reward(env, pi, n=500_000)"
   ]
  },
  {
   "cell_type": "code",
   "execution_count": 57,
   "id": "4998f684",
   "metadata": {},
   "outputs": [
    {
     "name": "stdout",
     "output_type": "stream",
     "text": [
      "'Q learning with double and cards count mean reward:  -0.098072\n"
     ]
    }
   ],
   "source": [
    "print(\"'Q learning with double and cards count mean reward: \", reward_mean)"
   ]
  },
  {
   "cell_type": "code",
   "execution_count": 56,
   "id": "ecacb39b",
   "metadata": {},
   "outputs": [
    {
     "name": "stderr",
     "output_type": "stream",
     "text": [
      "100%|██████████████████████████████████████████████████████████████████████████| 100000/100000 [23:13<00:00, 71.78it/s]\n"
     ]
    }
   ],
   "source": [
    "env = BlackjackDoubleCardsCountEnv()\n",
    "env.natural = True\n",
    "\n",
    "step = 1000\n",
    "Q = dict(zip(S, np.zeros((len(S), len(A)))))\n",
    "mean_rewards = get_mean_reward_while_learning(env, A, Q, num_episodes=num_episodes, num_playes=num_playes,\n",
    "                                   step=step, alpha=alpha, epsilon=epsilon, gamma=gamma)"
   ]
  },
  {
   "cell_type": "code",
   "execution_count": 58,
   "id": "f9a6672f",
   "metadata": {},
   "outputs": [
    {
     "data": {
      "image/png": "[encoded data removed]",
      "text/plain": [
       "<Figure size 720x504 with 1 Axes>"
      ]
     },
     "metadata": {
      "needs_background": "light"
     },
     "output_type": "display_data"
    }
   ],
   "source": [
    "plot_mean_rewards(mean_rewards, num_episodes, step)"
   ]
  },
  {
   "cell_type": "markdown",
   "id": "db2f1c4c",
   "metadata": {},
   "source": [
    "<b>Выводы:</b> в целом каждая следующая реализация в среднем показывает чуть лучший результат, чем предыдущая (кроме последней). Обыграть казино, к сожалению, так и не удалось, но думаю, что дальше все зависело от правильной настройки гиперпараметров на которую уже не хватило времени.\n",
    "Что касается последней реализации, то исходя из графиков можно сделать вывод, что при более длительном обучении есть потенциал выйти в плюс, но на это тоже нужно больше времени. "
   ]
  },
  {
   "cell_type": "code",
   "execution_count": null,
   "id": "1640300d",
   "metadata": {},
   "outputs": [],
   "source": []
  }
 ],
 "metadata": {
  "kernelspec": {
   "display_name": "Python 3",
   "language": "python",
   "name": "python3"
  },
  "language_info": {
   "codemirror_mode": {
    "name": "ipython",
    "version": 3
   },
   "file_extension": ".py",
   "mimetype": "text/x-python",
   "name": "python",
   "nbconvert_exporter": "python",
   "pygments_lexer": "ipython3",
   "version": "3.8.3"
  }
 },
 "nbformat": 4,
 "nbformat_minor": 5
}
